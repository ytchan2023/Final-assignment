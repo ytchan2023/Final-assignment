{
  "metadata": {
    "kernelspec": {
      "name": "python",
      "display_name": "Pyolite",
      "language": "python"
    },
    "language_info": {
      "codemirror_mode": {
        "name": "python",
        "version": 3
      },
      "file_extension": ".py",
      "mimetype": "text/x-python",
      "name": "python",
      "nbconvert_exporter": "python",
      "pygments_lexer": "ipython3",
      "version": "3.8"
    }
  },
  "nbformat_minor": 4,
  "nbformat": 4,
  "cells": [
    {
      "cell_type": "markdown",
      "source": "<center>\n    <img src=\"https://cf-courses-data.s3.us.cloud-object-storage.appdomain.cloud/IBMDeveloperSkillsNetwork-DS0105EN-SkillsNetwork/labs/Module2/images/SN_web_lightmode.png\" width=\"300\" alt=\"cognitiveclass.ai logo\">\n</center>\n",
      "metadata": {}
    },
    {
      "cell_type": "markdown",
      "source": "# My Jupyter Notebook on IBM Watson Studio",
      "metadata": {}
    },
    {
      "cell_type": "markdown",
      "source": "**Chan Yin Ting**\n\nStudent",
      "metadata": {}
    },
    {
      "cell_type": "markdown",
      "source": "*I am interested in data science because I am doing a DBA in green finance.*",
      "metadata": {}
    },
    {
      "cell_type": "markdown",
      "source": "### Cell 5 will calculate 1+2",
      "metadata": {}
    },
    {
      "cell_type": "code",
      "source": "1+2",
      "metadata": {
        "trusted": true
      },
      "execution_count": 5,
      "outputs": [
        {
          "execution_count": 5,
          "output_type": "execute_result",
          "data": {
            "text/plain": "3"
          },
          "metadata": {}
        }
      ]
    },
    {
      "cell_type": "markdown",
      "source": "Girl names \n*** \n\n* Ann\n* Barbie\n* Cathy\n\nBoy names \n***\n\n1. Andy\n2. Bob\n3. Calvin\n\nTable \n___\n\n| Col 1 | col 2 | col 3 |\n|---|:---:|---:|\n|a |b|c|\n|1|2|3|\n\n\nHyperlink to [Google](https://www.google.com)\n\n",
      "metadata": {}
    }
  ]
}